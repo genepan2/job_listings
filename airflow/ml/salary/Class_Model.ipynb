{
 "cells": [
  {
   "cell_type": "code",
   "execution_count": 1,
   "id": "ae047c63-846c-414e-8827-9f31a4a9f8cf",
   "metadata": {},
   "outputs": [],
   "source": [
    "# Import necessary libraries\n",
    "import pandas as pd\n",
    "import numpy as np\n",
    "from sklearn.model_selection import train_test_split\n",
    "from sklearn.linear_model import LogisticRegression\n",
    "from sklearn.tree import DecisionTreeClassifier\n",
    "from sklearn.ensemble import RandomForestClassifier\n",
    "import joblib\n",
    "from sklearn.preprocessing import OneHotEncoder"
   ]
  },
  {
   "cell_type": "code",
   "execution_count": 2,
   "id": "ddf47f04-6a7b-46e1-a650-0d23bf8b8f0e",
   "metadata": {},
   "outputs": [],
   "source": [
    "# Reload the CSV files into pandas DataFrames for years 2018, 2019, and 2020\n",
    "df_2018 = pd.read_csv('ITSalary2018.csv')\n",
    "df_2019 = pd.read_csv('ITSalary2019.csv')\n",
    "df_2020 = pd.read_csv('ITSalary2020.csv')"
   ]
  },
  {
   "cell_type": "code",
   "execution_count": 3,
   "id": "a136397b-3d15-4417-aad4-277d606a91df",
   "metadata": {},
   "outputs": [],
   "source": [
    "# Concatenate the three dataframes along the rows\n",
    "df = pd.concat([df_2018, df_2019, df_2020], ignore_index=True)"
   ]
  },
  {
   "cell_type": "code",
   "execution_count": 4,
   "id": "4728593e-2b49-4d10-868d-dfda6365834b",
   "metadata": {},
   "outputs": [
    {
     "data": {
      "text/plain": [
       "['Timestamp',\n",
       " 'Age',\n",
       " 'Gender',\n",
       " 'City',\n",
       " 'Position',\n",
       " 'Years of experience',\n",
       " 'Your level',\n",
       " 'Current Salary',\n",
       " 'Salary one year ago',\n",
       " 'Salary two years ago',\n",
       " 'Are you getting any Stock Options?',\n",
       " 'Main language at work',\n",
       " 'Company size',\n",
       " 'Company type',\n",
       " 'Zeitstempel',\n",
       " 'Seniority level',\n",
       " 'Position (without seniority)',\n",
       " 'Your main technology / programming language',\n",
       " 'Yearly brutto salary (without bonus and stocks)',\n",
       " 'Yearly bonus',\n",
       " 'Yearly stocks',\n",
       " 'Yearly brutto salary (without bonus and stocks) one year ago. Only answer if staying in same country',\n",
       " 'Yearly bonus one year ago. Only answer if staying in same country',\n",
       " 'Yearly stocks one year ago. Only answer if staying in same country',\n",
       " 'Number of vacation days',\n",
       " 'Number of home office days per month',\n",
       " 'Company name ',\n",
       " 'Сontract duration',\n",
       " 'Company business sector',\n",
       " '0',\n",
       " 'Total years of experience',\n",
       " 'Years of experience in Germany',\n",
       " 'Other technologies/programming languages you use often',\n",
       " 'Yearly brutto salary (without bonus and stocks) in EUR',\n",
       " 'Yearly bonus + stocks in EUR',\n",
       " 'Annual brutto salary (without bonus and stocks) one year ago. Only answer if staying in the same country',\n",
       " 'Annual bonus+stocks one year ago. Only answer if staying in same country',\n",
       " 'Employment status',\n",
       " 'Have you lost your job due to the coronavirus outbreak?',\n",
       " 'Have you been forced to have a shorter working week (Kurzarbeit)? If yes, how many hours per week',\n",
       " 'Have you received additional monetary support from your employer due to Work From Home? If yes, how much in 2020 in EUR']"
      ]
     },
     "execution_count": 4,
     "metadata": {},
     "output_type": "execute_result"
    }
   ],
   "source": [
    "# Check columns \n",
    "df.columns.to_list()"
   ]
  },
  {
   "cell_type": "markdown",
   "id": "755c2cac-5f1a-4971-9b2c-12c4d368bfd5",
   "metadata": {},
   "source": [
    "# Data Processing"
   ]
  },
  {
   "cell_type": "code",
   "execution_count": 5,
   "id": "78c234f1-78ce-4494-bd16-6846a0dc0387",
   "metadata": {},
   "outputs": [],
   "source": [
    "# Keep only attributes that can be found in Job_Listing Project Dataframe,\n",
    "# notice that every dataframe had a different name for salaries\n",
    "columns_to_keep = [\"City\", \n",
    "                   \"Position\",\n",
    "                   \"Position (without seniority)\",\n",
    "                   \"Main language at work\", \n",
    "                   \"Seniority level\",\n",
    "                   \"Yearly brutto salary (without bonus and stocks)\" , \n",
    "                   \"Yearly brutto salary (without bonus and stocks) in EUR\", \n",
    "                   \"Current Salary\"]"
   ]
  },
  {
   "cell_type": "code",
   "execution_count": 6,
   "id": "1efb5064-3754-4d5d-a632-e8822433838d",
   "metadata": {},
   "outputs": [],
   "source": [
    "# Create new dataframe with selected columns\n",
    "filtered_df = df[columns_to_keep].copy()  # Create a copy of the DataFrame to prevent warning"
   ]
  },
  {
   "cell_type": "code",
   "execution_count": 7,
   "id": "3d53ffb4-b6e9-4378-a3b1-bb292e27e97e",
   "metadata": {},
   "outputs": [
    {
     "data": {
      "text/html": [
       "<div>\n",
       "<style scoped>\n",
       "    .dataframe tbody tr th:only-of-type {\n",
       "        vertical-align: middle;\n",
       "    }\n",
       "\n",
       "    .dataframe tbody tr th {\n",
       "        vertical-align: top;\n",
       "    }\n",
       "\n",
       "    .dataframe thead th {\n",
       "        text-align: right;\n",
       "    }\n",
       "</style>\n",
       "<table border=\"1\" class=\"dataframe\">\n",
       "  <thead>\n",
       "    <tr style=\"text-align: right;\">\n",
       "      <th></th>\n",
       "      <th>City</th>\n",
       "      <th>Position</th>\n",
       "      <th>Position (without seniority)</th>\n",
       "      <th>Main language at work</th>\n",
       "      <th>Seniority level</th>\n",
       "      <th>Yearly brutto salary (without bonus and stocks)</th>\n",
       "      <th>Yearly brutto salary (without bonus and stocks) in EUR</th>\n",
       "      <th>Current Salary</th>\n",
       "    </tr>\n",
       "  </thead>\n",
       "  <tbody>\n",
       "    <tr>\n",
       "      <th>0</th>\n",
       "      <td>München</td>\n",
       "      <td>QA Ingenieur</td>\n",
       "      <td>NaN</td>\n",
       "      <td>Deutsch</td>\n",
       "      <td>NaN</td>\n",
       "      <td>NaN</td>\n",
       "      <td>NaN</td>\n",
       "      <td>77000.0</td>\n",
       "    </tr>\n",
       "    <tr>\n",
       "      <th>1</th>\n",
       "      <td>München</td>\n",
       "      <td>Senior PHP Magento developer</td>\n",
       "      <td>NaN</td>\n",
       "      <td>Deutsch</td>\n",
       "      <td>NaN</td>\n",
       "      <td>NaN</td>\n",
       "      <td>NaN</td>\n",
       "      <td>65000.0</td>\n",
       "    </tr>\n",
       "    <tr>\n",
       "      <th>2</th>\n",
       "      <td>München</td>\n",
       "      <td>Software Engineer</td>\n",
       "      <td>NaN</td>\n",
       "      <td>Deutsch</td>\n",
       "      <td>NaN</td>\n",
       "      <td>NaN</td>\n",
       "      <td>NaN</td>\n",
       "      <td>88000.0</td>\n",
       "    </tr>\n",
       "    <tr>\n",
       "      <th>3</th>\n",
       "      <td>München</td>\n",
       "      <td>Senior Frontend Developer</td>\n",
       "      <td>NaN</td>\n",
       "      <td>English</td>\n",
       "      <td>NaN</td>\n",
       "      <td>NaN</td>\n",
       "      <td>NaN</td>\n",
       "      <td>78000.0</td>\n",
       "    </tr>\n",
       "    <tr>\n",
       "      <th>4</th>\n",
       "      <td>München</td>\n",
       "      <td>UX Designer</td>\n",
       "      <td>NaN</td>\n",
       "      <td>English</td>\n",
       "      <td>NaN</td>\n",
       "      <td>NaN</td>\n",
       "      <td>NaN</td>\n",
       "      <td>69000.0</td>\n",
       "    </tr>\n",
       "  </tbody>\n",
       "</table>\n",
       "</div>"
      ],
      "text/plain": [
       "      City                       Position Position (without seniority)  \\\n",
       "0  München                   QA Ingenieur                          NaN   \n",
       "1  München  Senior PHP Magento developer                           NaN   \n",
       "2  München              Software Engineer                          NaN   \n",
       "3  München      Senior Frontend Developer                          NaN   \n",
       "4  München                    UX Designer                          NaN   \n",
       "\n",
       "  Main language at work Seniority level  \\\n",
       "0               Deutsch             NaN   \n",
       "1               Deutsch             NaN   \n",
       "2               Deutsch             NaN   \n",
       "3               English             NaN   \n",
       "4               English             NaN   \n",
       "\n",
       "   Yearly brutto salary (without bonus and stocks)  \\\n",
       "0                                              NaN   \n",
       "1                                              NaN   \n",
       "2                                              NaN   \n",
       "3                                              NaN   \n",
       "4                                              NaN   \n",
       "\n",
       "   Yearly brutto salary (without bonus and stocks) in EUR  Current Salary  \n",
       "0                                                NaN              77000.0  \n",
       "1                                                NaN              65000.0  \n",
       "2                                                NaN              88000.0  \n",
       "3                                                NaN              78000.0  \n",
       "4                                                NaN              69000.0  "
      ]
     },
     "execution_count": 7,
     "metadata": {},
     "output_type": "execute_result"
    }
   ],
   "source": [
    "filtered_df.head()"
   ]
  },
  {
   "cell_type": "code",
   "execution_count": 8,
   "id": "39e72df3-4974-4a55-a48f-890ebeed668c",
   "metadata": {},
   "outputs": [],
   "source": [
    "# Merge the 3 different salaries columns \n",
    "filtered_df['Current Salary'] = (filtered_df['Current Salary'].astype(str) +\n",
    "                               filtered_df['Yearly brutto salary (without bonus and stocks) in EUR'].astype(str) +\n",
    "                               filtered_df['Yearly brutto salary (without bonus and stocks)'].astype(str))"
   ]
  },
  {
   "cell_type": "code",
   "execution_count": 9,
   "id": "3c53d036-6891-47cc-ad88-3610b8aff460",
   "metadata": {},
   "outputs": [],
   "source": [
    "# Merge the 2 different position columns \n",
    "filtered_df['Position'] = (filtered_df['Position'].astype(str) +\n",
    "                           filtered_df['Position (without seniority)'].astype(str))"
   ]
  },
  {
   "cell_type": "code",
   "execution_count": 10,
   "id": "11ad211f-fffb-4f20-9fe0-b735bfa93674",
   "metadata": {},
   "outputs": [],
   "source": [
    "# Drop the original columns as they're now redundant\n",
    "filtered_df = filtered_df.drop(['Yearly brutto salary (without bonus and stocks) in EUR', \n",
    "                                'Yearly brutto salary (without bonus and stocks)',\n",
    "                                'Position (without seniority)' ], axis=1)\n"
   ]
  },
  {
   "cell_type": "code",
   "execution_count": 11,
   "id": "77e9b240-91ac-4c01-89a1-0968641fcf73",
   "metadata": {},
   "outputs": [],
   "source": [
    "# Rename the columns based on the provided mappings\n",
    "filtered_df = filtered_df.rename(columns={\n",
    "    'City': 'location',\n",
    "    'Position': 'title',\n",
    "    'Main language at work': 'language',\n",
    "    'Seniority level': 'level',\n",
    "    'Current Salary': 'salary'\n",
    "})"
   ]
  },
  {
   "cell_type": "code",
   "execution_count": 12,
   "id": "b63c382d-438f-46a0-855b-72cc96a540e3",
   "metadata": {},
   "outputs": [
    {
     "data": {
      "text/html": [
       "<div>\n",
       "<style scoped>\n",
       "    .dataframe tbody tr th:only-of-type {\n",
       "        vertical-align: middle;\n",
       "    }\n",
       "\n",
       "    .dataframe tbody tr th {\n",
       "        vertical-align: top;\n",
       "    }\n",
       "\n",
       "    .dataframe thead th {\n",
       "        text-align: right;\n",
       "    }\n",
       "</style>\n",
       "<table border=\"1\" class=\"dataframe\">\n",
       "  <thead>\n",
       "    <tr style=\"text-align: right;\">\n",
       "      <th></th>\n",
       "      <th>location</th>\n",
       "      <th>title</th>\n",
       "      <th>language</th>\n",
       "      <th>level</th>\n",
       "      <th>salary</th>\n",
       "    </tr>\n",
       "  </thead>\n",
       "  <tbody>\n",
       "    <tr>\n",
       "      <th>0</th>\n",
       "      <td>München</td>\n",
       "      <td>QA Ingenieurnan</td>\n",
       "      <td>Deutsch</td>\n",
       "      <td>NaN</td>\n",
       "      <td>77000.0nannan</td>\n",
       "    </tr>\n",
       "    <tr>\n",
       "      <th>1</th>\n",
       "      <td>München</td>\n",
       "      <td>Senior PHP Magento developer nan</td>\n",
       "      <td>Deutsch</td>\n",
       "      <td>NaN</td>\n",
       "      <td>65000.0nannan</td>\n",
       "    </tr>\n",
       "    <tr>\n",
       "      <th>2</th>\n",
       "      <td>München</td>\n",
       "      <td>Software Engineernan</td>\n",
       "      <td>Deutsch</td>\n",
       "      <td>NaN</td>\n",
       "      <td>88000.0nannan</td>\n",
       "    </tr>\n",
       "    <tr>\n",
       "      <th>3</th>\n",
       "      <td>München</td>\n",
       "      <td>Senior Frontend Developernan</td>\n",
       "      <td>English</td>\n",
       "      <td>NaN</td>\n",
       "      <td>78000.0nannan</td>\n",
       "    </tr>\n",
       "    <tr>\n",
       "      <th>4</th>\n",
       "      <td>München</td>\n",
       "      <td>UX Designernan</td>\n",
       "      <td>English</td>\n",
       "      <td>NaN</td>\n",
       "      <td>69000.0nannan</td>\n",
       "    </tr>\n",
       "  </tbody>\n",
       "</table>\n",
       "</div>"
      ],
      "text/plain": [
       "  location                             title language level         salary\n",
       "0  München                   QA Ingenieurnan  Deutsch   NaN  77000.0nannan\n",
       "1  München  Senior PHP Magento developer nan  Deutsch   NaN  65000.0nannan\n",
       "2  München              Software Engineernan  Deutsch   NaN  88000.0nannan\n",
       "3  München      Senior Frontend Developernan  English   NaN  78000.0nannan\n",
       "4  München                    UX Designernan  English   NaN  69000.0nannan"
      ]
     },
     "execution_count": 12,
     "metadata": {},
     "output_type": "execute_result"
    }
   ],
   "source": [
    "filtered_df.head()"
   ]
  },
  {
   "cell_type": "markdown",
   "id": "c9e4dd95-4a80-41c0-93f6-3c5ffef500ef",
   "metadata": {},
   "source": [
    "# Location cleanup"
   ]
  },
  {
   "cell_type": "code",
   "execution_count": 13,
   "id": "8e4de0c6-1cba-4eff-b360-aec6e1888023",
   "metadata": {},
   "outputs": [
    {
     "name": "stdout",
     "output_type": "stream",
     "text": [
      "Number of location missing values: 29\n"
     ]
    },
    {
     "data": {
      "text/plain": [
       "location\n",
       "Berlin            1402\n",
       "Munich             476\n",
       "München            249\n",
       "Frankfurt          127\n",
       "Amsterdam          104\n",
       "                  ... \n",
       "Frankonia            1\n",
       "Kaiserslautern       1\n",
       "Dublin               1\n",
       "Ludwigsburg          1\n",
       "Saarbrücken          1\n",
       "Name: count, Length: 175, dtype: int64"
      ]
     },
     "execution_count": 13,
     "metadata": {},
     "output_type": "execute_result"
    }
   ],
   "source": [
    "# Inspect location\n",
    "print(f'Number of location missing values: {filtered_df.location.isna().sum()}')\n",
    "filtered_df['location'].value_counts()"
   ]
  },
  {
   "cell_type": "code",
   "execution_count": 14,
   "id": "0e0e6625-d0ef-479f-a782-442768538c5c",
   "metadata": {},
   "outputs": [],
   "source": [
    "# Rename same cities naming\n",
    "filtered_df['location'] = filtered_df['location'].replace({'München': 'Munich'})\n",
    "filtered_df['location'] = filtered_df['location'].replace({'Köln': 'Cologne'})"
   ]
  },
  {
   "cell_type": "code",
   "execution_count": 15,
   "id": "d5d4318b-34b6-4381-ad6d-a46d5074e806",
   "metadata": {},
   "outputs": [],
   "source": [
    "# Keep only the specified German cities\n",
    "specified_cities = ['Berlin', 'Munich', 'Frankfurt', 'Hamburg', 'Cologne']"
   ]
  },
  {
   "cell_type": "code",
   "execution_count": 16,
   "id": "99ec8122-b8e6-4f66-8236-738322e62baf",
   "metadata": {},
   "outputs": [],
   "source": [
    "# Replace cities not in the specified list with \"Others\"\n",
    "filtered_df['location'] = filtered_df['location'].apply(lambda x: x if x in specified_cities else 'Others')"
   ]
  },
  {
   "cell_type": "code",
   "execution_count": 17,
   "id": "d9fecb76-2dba-420e-9d5a-2f2a20463933",
   "metadata": {},
   "outputs": [],
   "source": [
    "# Drop rows where 'location' is \"Others\"\n",
    "filtered_df = filtered_df[filtered_df['location'] != 'Others']"
   ]
  },
  {
   "cell_type": "code",
   "execution_count": 18,
   "id": "ac2c1833-f881-454f-aee4-a032c7eeb97e",
   "metadata": {},
   "outputs": [
    {
     "data": {
      "text/plain": [
       "location\n",
       "Berlin       1402\n",
       "Munich        725\n",
       "Frankfurt     127\n",
       "Hamburg        90\n",
       "Cologne        57\n",
       "Name: count, dtype: int64"
      ]
     },
     "execution_count": 18,
     "metadata": {},
     "output_type": "execute_result"
    }
   ],
   "source": [
    "# Display the updated value counts for the city column\n",
    "filtered_df['location'].value_counts()"
   ]
  },
  {
   "cell_type": "markdown",
   "id": "46b70631-4413-474a-91bf-571736cfeaa1",
   "metadata": {},
   "source": [
    "# Job Title cleanup"
   ]
  },
  {
   "cell_type": "code",
   "execution_count": 19,
   "id": "b7337520-b047-4b60-878c-c8a1fc0b9274",
   "metadata": {},
   "outputs": [
    {
     "name": "stdout",
     "output_type": "stream",
     "text": [
      "Number of job_title missing values: 0\n"
     ]
    }
   ],
   "source": [
    "# Inspect job_title column\n",
    "print(f'Number of job_title missing values: {filtered_df.title.isna().sum()}')"
   ]
  },
  {
   "cell_type": "code",
   "execution_count": 20,
   "id": "6bb0cd9d-ffaa-4cdc-82bd-bb8e4b85fc15",
   "metadata": {},
   "outputs": [
    {
     "data": {
      "text/plain": [
       "title\n",
       "Software Engineernan            346\n",
       "nanBackend Developer            199\n",
       "Backend Developernan            150\n",
       "nanData Scientist                98\n",
       "Frontend Developernan            89\n",
       "Data Scientistnan                86\n",
       "QA Engineernan                   63\n",
       "DevOpsnan                        59\n",
       "nanFullstack Developer           56\n",
       "nanManager                       52\n",
       "nanFrontend Developer            51\n",
       "nanQA                            43\n",
       "Mobile Developernan              41\n",
       "Product Managernan               37\n",
       "nanDevOps                        36\n",
       "nanMobile Developer              35\n",
       "ML Engineernan                   34\n",
       "nanSoftware Architect            33\n",
       "nanData Engineer                 29\n",
       "Data Engineernan                 28\n",
       "nanMachine Learning Engineer     26\n",
       "Java Developernan                23\n",
       "nannan                           20\n",
       "Senior Software Engineernan      15\n",
       "Designer (UI/UX)nan              15\n",
       "QAnan                            15\n",
       "nanBusiness Analyst              13\n",
       "Engineering Managernan           12\n",
       "nanEmbedded Developer            11\n",
       "Software Developernan            11\n",
       "Name: count, dtype: int64"
      ]
     },
     "execution_count": 20,
     "metadata": {},
     "output_type": "execute_result"
    }
   ],
   "source": [
    "# Inspect job_title column\n",
    "filtered_df.title.value_counts()[:30]"
   ]
  },
  {
   "cell_type": "code",
   "execution_count": 21,
   "id": "ad4b7ce1-d7db-4199-9c72-61ee710c5a13",
   "metadata": {},
   "outputs": [],
   "source": [
    "# Remove \"nan\" from text in the 'title' column\n",
    "filtered_df.loc[:, 'title'] = filtered_df['title'].str.replace('nan', '', regex=False)"
   ]
  },
  {
   "cell_type": "code",
   "execution_count": 22,
   "id": "382fd2a6-c709-48da-a57a-8217c2b2f368",
   "metadata": {},
   "outputs": [],
   "source": [
    "# Drop rows where 'title' is empty\n",
    "filtered_df = filtered_df[filtered_df['title'] != '']"
   ]
  },
  {
   "cell_type": "code",
   "execution_count": 23,
   "id": "4b79d0ab-52be-4d08-aeaa-d89d7f4e900d",
   "metadata": {},
   "outputs": [],
   "source": [
    "# Replace underrepresented positions with \"Other\"\n",
    "other_positions = filtered_df.title.value_counts()[(filtered_df.title.value_counts() < 25).values].index\n",
    "filtered_df.loc[filtered_df.title.isin(other_positions), 'title'] = 'Other'\n",
    "filtered_df = filtered_df[filtered_df['title'] != 'Other']"
   ]
  },
  {
   "cell_type": "code",
   "execution_count": 24,
   "id": "6a2df57f-2980-4c36-b655-d3e55c960a2c",
   "metadata": {},
   "outputs": [
    {
     "data": {
      "text/plain": [
       "title\n",
       "Software Engineer            353\n",
       "Backend Developer            349\n",
       "Data Scientist               184\n",
       "Frontend Developer           140\n",
       "DevOps                        95\n",
       "Mobile Developer              76\n",
       "QA Engineer                   63\n",
       "Fullstack Developer           59\n",
       "QA                            58\n",
       "Data Engineer                 57\n",
       "Manager                       55\n",
       "Product Manager               46\n",
       "Software Architect            37\n",
       "ML Engineer                   34\n",
       "Machine Learning Engineer     29\n",
       "Name: count, dtype: int64"
      ]
     },
     "execution_count": 24,
     "metadata": {},
     "output_type": "execute_result"
    }
   ],
   "source": [
    "# Inspect job_title column\n",
    "filtered_df.title.value_counts()[:30]"
   ]
  },
  {
   "cell_type": "markdown",
   "id": "d79d3ab0-4138-4373-9861-42ffd7e1bdda",
   "metadata": {},
   "source": [
    "# Language used at work cleanup"
   ]
  },
  {
   "cell_type": "code",
   "execution_count": 25,
   "id": "42a7d1d3-ccc5-40b5-919d-b79d3d74f040",
   "metadata": {},
   "outputs": [
    {
     "name": "stdout",
     "output_type": "stream",
     "text": [
      "Number of language missing values: 13\n"
     ]
    },
    {
     "data": {
      "text/plain": [
       "language\n",
       "English               1350\n",
       "Deutsch                143\n",
       "German                 107\n",
       "Russian                 18\n",
       "French                   1\n",
       "English and German       1\n",
       "Name: count, dtype: int64"
      ]
     },
     "execution_count": 25,
     "metadata": {},
     "output_type": "execute_result"
    }
   ],
   "source": [
    "# Inspect language\n",
    "print(f'Number of language missing values: {filtered_df.language.isna().sum()}')\n",
    "filtered_df.language.value_counts()[:6]"
   ]
  },
  {
   "cell_type": "code",
   "execution_count": 26,
   "id": "6341802f-11e4-41ef-91b8-e7c51920e8bf",
   "metadata": {},
   "outputs": [],
   "source": [
    "# Replacing \"Deutsch\" with \"German\" in the \"Main language at work\" column\n",
    "filtered_df['language'] = filtered_df['language'].replace('Deutsch', 'German')"
   ]
  },
  {
   "cell_type": "code",
   "execution_count": 27,
   "id": "52541ff3-2f1d-4e27-a246-38dbe588070f",
   "metadata": {},
   "outputs": [],
   "source": [
    "# Fill missing language values with 'English' (assuming missing values are English)\n",
    "filtered_df.language = filtered_df.language.fillna('English')"
   ]
  },
  {
   "cell_type": "code",
   "execution_count": 28,
   "id": "64a2a880-0f9f-494d-8fe5-87095ce93f64",
   "metadata": {},
   "outputs": [],
   "source": [
    "# Keep only 'English' and 'German' in the 'language' column\n",
    "specified_languages = ['English', 'German']\n",
    "filtered_df['language'] = filtered_df['language'].apply(lambda x: x if x in specified_languages else 'Other')\n",
    "filtered_df = filtered_df[filtered_df['language'] != 'Other']"
   ]
  },
  {
   "cell_type": "code",
   "execution_count": 29,
   "id": "03892271-c9ab-4d90-b873-e12bda89527d",
   "metadata": {},
   "outputs": [
    {
     "data": {
      "text/plain": [
       "language\n",
       "English    1363\n",
       "German      250\n",
       "Name: count, dtype: int64"
      ]
     },
     "execution_count": 29,
     "metadata": {},
     "output_type": "execute_result"
    }
   ],
   "source": [
    "filtered_df.language.value_counts()[:6]"
   ]
  },
  {
   "cell_type": "markdown",
   "id": "9510a070-2880-461d-b423-3dde8baed08a",
   "metadata": {},
   "source": [
    "# Seniority Level cleanup"
   ]
  },
  {
   "cell_type": "code",
   "execution_count": 30,
   "id": "c45739fd-8804-4da5-89e3-10781b29760b",
   "metadata": {},
   "outputs": [
    {
     "name": "stdout",
     "output_type": "stream",
     "text": [
      "Number of level missing values: 104\n"
     ]
    },
    {
     "data": {
      "text/plain": [
       "level\n",
       "Senior             820\n",
       "Middle             425\n",
       "Lead               144\n",
       "Junior              85\n",
       "Head                25\n",
       "Principal            5\n",
       "No level             1\n",
       "intern               1\n",
       "Working Student      1\n",
       "student              1\n",
       "Self employed        1\n",
       "Name: count, dtype: int64"
      ]
     },
     "execution_count": 30,
     "metadata": {},
     "output_type": "execute_result"
    }
   ],
   "source": [
    "# Inspect seniority\n",
    "print(f'Number of level missing values: {filtered_df.level.isna().sum()}')\n",
    "filtered_df.level.value_counts()"
   ]
  },
  {
   "cell_type": "code",
   "execution_count": 31,
   "id": "dfbd090e-e42b-4c45-9c0d-b19b9f3f250b",
   "metadata": {},
   "outputs": [],
   "source": [
    "# Function to determine job level based on job title\n",
    "def determine_level(row):\n",
    "    title = row['title']\n",
    "    if pd.isna(title):  # Check if title is NaN\n",
    "        return \"Middle\"  \n",
    "\n",
    "    title = title.lower()  # Convert to lowercase if title is not NaN\n",
    "\n",
    "    if \"senior\" in title:\n",
    "        return \"Senior\"\n",
    "    elif \"junior\" in title:\n",
    "        return \"Junior\"\n",
    "    elif \"intern\" in title or \"internship\" in title:\n",
    "        return \"Intern\"\n",
    "    elif \"student\" in title or \"working student\" or \"Werkstudent\" in title:\n",
    "        return \"Student\"\n",
    "    elif \"lead\" in title:\n",
    "        return \"Lead\"\n",
    "    elif \"head\" in title:\n",
    "        return \"Head\"\n",
    "    else:\n",
    "        return \"Middle\""
   ]
  },
  {
   "cell_type": "code",
   "execution_count": 32,
   "id": "55bad459-d569-4d90-95d5-267da158b4c5",
   "metadata": {},
   "outputs": [],
   "source": [
    "# Applying the function to fill NaN values in 'level' column\n",
    "filtered_df['level'] = filtered_df.apply(lambda row: determine_level(row) if pd.isnull(row['level']) else row['level'], axis=1)"
   ]
  },
  {
   "cell_type": "code",
   "execution_count": 33,
   "id": "950d5734-d09c-4dd2-a254-fbb853488682",
   "metadata": {},
   "outputs": [],
   "source": [
    "# Remove slashes and leading/trailing whitespace from the 'level' column\n",
    "filtered_df['level'] = filtered_df['level'].str.replace('/', '').str.strip()"
   ]
  },
  {
   "cell_type": "code",
   "execution_count": 34,
   "id": "339fda43-8652-4e19-9e90-f8af0c6aa6bc",
   "metadata": {},
   "outputs": [],
   "source": [
    "# Identify the rare values in the 'level' column\n",
    "rare_levels = filtered_df['level'].value_counts()[6:].index.tolist()"
   ]
  },
  {
   "cell_type": "code",
   "execution_count": 35,
   "id": "b889a191-09bd-42dc-893b-43a6cdcddfd4",
   "metadata": {},
   "outputs": [],
   "source": [
    "# Replace rare values with 'Other'\n",
    "filtered_df.loc[filtered_df['level'].isin(rare_levels), 'level'] = 'Other'\n"
   ]
  },
  {
   "cell_type": "code",
   "execution_count": 36,
   "id": "7181a9e2-78bc-4b86-9a31-bd91e02fb04f",
   "metadata": {},
   "outputs": [],
   "source": [
    "# Drop rows where value is \"Other\"\n",
    "filtered_df = filtered_df[filtered_df['level'] != 'Other']"
   ]
  },
  {
   "cell_type": "code",
   "execution_count": 37,
   "id": "63fa4292-c87c-495a-affa-60ed57d0f656",
   "metadata": {},
   "outputs": [
    {
     "data": {
      "text/plain": [
       "level\n",
       "Senior     820\n",
       "Middle     425\n",
       "Lead       144\n",
       "Student    104\n",
       "Junior      85\n",
       "Head        25\n",
       "Name: count, dtype: int64"
      ]
     },
     "execution_count": 37,
     "metadata": {},
     "output_type": "execute_result"
    }
   ],
   "source": [
    "filtered_df.level.value_counts()"
   ]
  },
  {
   "cell_type": "markdown",
   "id": "20c55024-df0c-4387-8cf8-2acae1407342",
   "metadata": {},
   "source": [
    "# Salary Level cleanup"
   ]
  },
  {
   "cell_type": "code",
   "execution_count": 38,
   "id": "3e30ae0a-1e6c-4595-b3fd-77cb077aea9f",
   "metadata": {},
   "outputs": [
    {
     "name": "stdout",
     "output_type": "stream",
     "text": [
      "Number of salary missing values: 0\n"
     ]
    }
   ],
   "source": [
    "# Inspect seniority\n",
    "print(f'Number of salary missing values: {filtered_df.salary.isna().sum()}')"
   ]
  },
  {
   "cell_type": "code",
   "execution_count": 39,
   "id": "a4086310-4282-40ed-a6b3-67c38d466d72",
   "metadata": {},
   "outputs": [
    {
     "data": {
      "text/plain": [
       "2       88000.0nannan\n",
       "9       60000.0nannan\n",
       "10      70000.0nannan\n",
       "17      60000.0nannan\n",
       "18      62500.0nannan\n",
       "            ...      \n",
       "2999    nan55000.0nan\n",
       "3000    nan95000.0nan\n",
       "3001    nan55000.0nan\n",
       "3004    nan70000.0nan\n",
       "3008    nan65000.0nan\n",
       "Name: salary, Length: 1603, dtype: object"
      ]
     },
     "execution_count": 39,
     "metadata": {},
     "output_type": "execute_result"
    }
   ],
   "source": [
    "filtered_df['salary']"
   ]
  },
  {
   "cell_type": "code",
   "execution_count": 40,
   "id": "e16c7677-4dce-4e89-999c-4f25b4cbb39f",
   "metadata": {},
   "outputs": [],
   "source": [
    "# Remove 'nan' variations from the 'salary' column\n",
    "filtered_df['salary'] = filtered_df['salary'].str.replace(r'nan', '', regex=True)\n"
   ]
  },
  {
   "cell_type": "code",
   "execution_count": 41,
   "id": "67685caa-de2a-4112-9d3a-23d2f550fdcb",
   "metadata": {},
   "outputs": [],
   "source": [
    "# Set the display format for float values\n",
    "pd.options.display.float_format = '{:,.0f}'.format\n"
   ]
  },
  {
   "cell_type": "code",
   "execution_count": 42,
   "id": "bcbb644d-a39a-4afc-aa8e-58239d1f998d",
   "metadata": {},
   "outputs": [],
   "source": [
    "# Convert the 'salary' column to a numeric data type (float)\n",
    "filtered_df['salary'] = pd.to_numeric(filtered_df['salary'], errors='coerce')\n"
   ]
  },
  {
   "cell_type": "code",
   "execution_count": 43,
   "id": "729371dd-e69b-47cc-9eb1-18604a7abea2",
   "metadata": {},
   "outputs": [
    {
     "name": "stdout",
     "output_type": "stream",
     "text": [
      "Top 10 Highest Salaries:\n",
      "       location               title language   level      salary\n",
      "2609    Cologne         ML Engineer  English  Middle 500,000,000\n",
      "2534     Berlin  Frontend Developer  English  Senior     850,000\n",
      "2332     Munich      Data Scientist  English  Junior     300,000\n",
      "2560     Berlin    Mobile Developer  English    Lead     240,000\n",
      "1588     Munich   Backend Developer   German  Senior     200,000\n",
      "2722     Berlin       Data Engineer  English  Senior     200,000\n",
      "802      Berlin   Backend Developer  English  Senior     190,000\n",
      "2250     Berlin             Manager  English    Head     180,000\n",
      "2593     Munich         ML Engineer   German  Senior     180,000\n",
      "787   Frankfurt              DevOps   German  Senior     160,000\n"
     ]
    }
   ],
   "source": [
    "# Display the top 10 highest salaries\n",
    "top_10_salaries = filtered_df.nlargest(10, 'salary')\n",
    "print(\"Top 10 Highest Salaries:\")\n",
    "print(top_10_salaries)"
   ]
  },
  {
   "cell_type": "code",
   "execution_count": 44,
   "id": "52449481-5caa-428e-b124-cb7bb97fc9cc",
   "metadata": {},
   "outputs": [],
   "source": [
    "# Sort the DataFrame by 'salary' in descending order\n",
    "filtered_df.sort_values(by='salary', ascending=False, inplace=True)\n"
   ]
  },
  {
   "cell_type": "code",
   "execution_count": 45,
   "id": "4fd609f0-4033-4929-b8f5-d5391f37b1e1",
   "metadata": {},
   "outputs": [],
   "source": [
    "# Drop the first highest values\n",
    "filtered_df = filtered_df.iloc[15:]\n"
   ]
  },
  {
   "cell_type": "code",
   "execution_count": 46,
   "id": "c8dfb710-44cf-4a49-803f-dd1a429debc1",
   "metadata": {},
   "outputs": [],
   "source": [
    "# Reset the index after dropping rows\n",
    "filtered_df.reset_index(drop=True, inplace=True)\n"
   ]
  },
  {
   "cell_type": "code",
   "execution_count": 47,
   "id": "d6f2354d-50af-41a2-919f-34ace608e740",
   "metadata": {},
   "outputs": [
    {
     "name": "stdout",
     "output_type": "stream",
     "text": [
      "\n",
      "Bottom 30 Lowest Salaries:\n",
      "       location                title language    level  salary\n",
      "1586    Hamburg    Backend Developer  English   Middle  10,001\n",
      "1585     Berlin          ML Engineer  English   Junior  11,500\n",
      "1584     Berlin    Backend Developer   German   Junior  25,000\n",
      "1583  Frankfurt    Software Engineer  English   Senior  26,400\n",
      "1582     Berlin    Software Engineer   German     Lead  28,800\n",
      "1576    Cologne  Fullstack Developer   German   Junior  30,000\n",
      "1577     Berlin                   QA  English  Student  30,000\n",
      "1578     Berlin  Fullstack Developer   German   Middle  30,000\n",
      "1579     Berlin    Software Engineer   German   Junior  30,000\n",
      "1580     Berlin      Product Manager  English   Junior  30,000\n",
      "1581     Berlin      Product Manager  English   Junior  30,000\n",
      "1575     Berlin                   QA  English  Student  33,000\n",
      "1574     Berlin                   QA  English   Junior  34,000\n",
      "1573     Berlin        Data Engineer  English   Middle  34,446\n",
      "1571     Berlin    Backend Developer  English   Senior  35,000\n",
      "1572     Berlin  Fullstack Developer  English   Senior  35,000\n",
      "1569     Munich   Frontend Developer   German   Junior  36,000\n",
      "1570  Frankfurt   Frontend Developer   German   Junior  36,000\n",
      "1568     Munich   Frontend Developer   German  Student  37,000\n",
      "1567    Hamburg          ML Engineer   German   Middle  37,500\n",
      "1562     Berlin   Frontend Developer  English   Junior  40,000\n",
      "1563     Berlin                   QA  English   Middle  40,000\n",
      "1564     Berlin       Data Scientist  English   Middle  40,000\n",
      "1565     Berlin     Mobile Developer   German   Middle  40,000\n",
      "1566     Berlin        Data Engineer   German   Junior  40,000\n",
      "1561     Berlin    Backend Developer  English   Middle  40,700\n",
      "1560    Hamburg   Frontend Developer  English   Middle  41,160\n",
      "1554     Berlin                   QA  English   Senior  42,000\n",
      "1555     Berlin                   QA  English   Middle  42,000\n",
      "1556     Berlin                   QA  English  Student  42,000\n"
     ]
    }
   ],
   "source": [
    "# Display the bottom 10 lowest salaries\n",
    "bottom_10_salaries = filtered_df.nsmallest(30, 'salary')\n",
    "print(\"\\nBottom 30 Lowest Salaries:\")\n",
    "print(bottom_10_salaries)"
   ]
  },
  {
   "cell_type": "code",
   "execution_count": 48,
   "id": "6682806f-4158-47c4-88a3-71dbc51c7d3a",
   "metadata": {},
   "outputs": [],
   "source": [
    "# Create a copy of the DataFrame to prevent warning\n",
    "filtered_df = filtered_df.copy()"
   ]
  },
  {
   "cell_type": "code",
   "execution_count": 49,
   "id": "81ea14cc-0b5f-4a52-8753-7e2a37aedc61",
   "metadata": {},
   "outputs": [],
   "source": [
    "# Sort the DataFrame by 'salary' in ascending order\n",
    "filtered_df.sort_values(by='salary', ascending=True, inplace=True)"
   ]
  },
  {
   "cell_type": "code",
   "execution_count": 50,
   "id": "8f1dcef1-9f6a-416a-82a2-3a5f5742371e",
   "metadata": {},
   "outputs": [],
   "source": [
    "# Drop the bottom lowest values\n",
    "filtered_df = filtered_df.iloc[40:]"
   ]
  },
  {
   "cell_type": "code",
   "execution_count": 51,
   "id": "00b3ff2a-49ed-4721-9356-c30463dcfa16",
   "metadata": {},
   "outputs": [],
   "source": [
    "# Reset the index after dropping rows\n",
    "filtered_df.reset_index(drop=True, inplace=True)"
   ]
  },
  {
   "cell_type": "code",
   "execution_count": 52,
   "id": "ec291e59-28e9-409e-9f10-5c2d54b0fa4b",
   "metadata": {},
   "outputs": [],
   "source": [
    "# Drop missing values in the 'salary' column\n",
    "filtered_df.dropna(subset=['salary'], inplace=True)"
   ]
  },
  {
   "cell_type": "code",
   "execution_count": 53,
   "id": "541606db-33de-47d3-9cad-ab42644600e3",
   "metadata": {},
   "outputs": [
    {
     "name": "stdout",
     "output_type": "stream",
     "text": [
      "Top 10 Highest Salaries:\n",
      "     location              title language   level  salary\n",
      "1542   Berlin    Product Manager  English    Head 150,000\n",
      "1543   Berlin  Backend Developer  English  Senior 150,000\n",
      "1544   Berlin  Software Engineer  English  Senior 150,000\n",
      "1545   Munich   Mobile Developer   German  Senior 150,000\n",
      "1546   Berlin     Data Scientist  English    Lead 150,000\n",
      "1539   Berlin     Data Scientist  English  Senior 140,000\n",
      "1540   Munich  Software Engineer  English    Lead 140,000\n",
      "1541   Berlin             DevOps  English    Lead 140,000\n",
      "1537   Berlin  Backend Developer  English    Lead 135,000\n",
      "1538   Munich     Data Scientist  English  Senior 135,000\n",
      "\n",
      "Bottom 10 Lowest Salaries:\n",
      "    location               title language    level  salary\n",
      "0  Frankfurt  Frontend Developer  English   Middle  44,000\n",
      "1     Berlin         QA Engineer  English   Middle  45,000\n",
      "2     Berlin         ML Engineer  English   Junior  45,000\n",
      "3     Berlin      Data Scientist  English   Junior  45,000\n",
      "4  Frankfurt             Manager   German   Middle  45,000\n",
      "5     Berlin  Software Architect   German   Junior  45,000\n",
      "6  Frankfurt              DevOps   German   Junior  45,000\n",
      "7    Cologne   Software Engineer   German   Junior  45,000\n",
      "8     Berlin   Backend Developer  English  Student  45,000\n",
      "9     Berlin  Frontend Developer  English   Middle  45,000\n"
     ]
    }
   ],
   "source": [
    "# Display the top 10 highest salaries\n",
    "top_10_salaries = filtered_df.nlargest(10, 'salary')\n",
    "print(\"Top 10 Highest Salaries:\")\n",
    "print(top_10_salaries)\n",
    "\n",
    "# Display the bottom 10 lowest salaries\n",
    "bottom_10_salaries = filtered_df.nsmallest(10, 'salary')\n",
    "print(\"\\nBottom 10 Lowest Salaries:\")\n",
    "print(bottom_10_salaries)"
   ]
  },
  {
   "cell_type": "code",
   "execution_count": 54,
   "id": "ecce8f6c-f452-4df8-b021-c73843ea2d55",
   "metadata": {},
   "outputs": [],
   "source": [
    "# Salary thresholds\n",
    "salary_thresholds = [60000, 80000, 100000]\n",
    "labels = ['Class 1', 'Class 2', 'Class 3']\n",
    "\n",
    "\n",
    "# Create a new target column based on the thresholds\n",
    "def classify_salary(salary):\n",
    "    for i, threshold in enumerate(salary_thresholds):\n",
    "        if salary <= threshold:\n",
    "            return labels[i]\n",
    "    return labels[-1]  # Assign the last label for salaries above the highest threshold\n",
    "\n",
    "filtered_df['salary_class'] = filtered_df['salary'].apply(classify_salary)"
   ]
  },
  {
   "cell_type": "markdown",
   "id": "d0c173a1-a525-49e0-b683-916f0534ea38",
   "metadata": {},
   "source": [
    "# Model Training(Classification):"
   ]
  },
  {
   "cell_type": "code",
   "execution_count": 55,
   "id": "cf660864-c2a5-4533-99c7-b5c346dc2784",
   "metadata": {},
   "outputs": [],
   "source": [
    "# Split the data into features (X) and the target (y)\n",
    "X = filtered_df.drop(['salary', 'salary_class'], axis=1)\n",
    "y = filtered_df['salary_class']  # Use 'salary_class' as the target"
   ]
  },
  {
   "cell_type": "code",
   "execution_count": 56,
   "id": "8427f1e1-ade8-498f-85bc-6e55132cbb13",
   "metadata": {},
   "outputs": [],
   "source": [
    "# Split the data into training and testing sets\n",
    "X_train, X_test, y_train, y_test = train_test_split(X, y, test_size=0.25, random_state=42)\n"
   ]
  },
  {
   "cell_type": "code",
   "execution_count": 57,
   "id": "26fdd5bb-20da-4bcb-b14f-d7c954bb34f8",
   "metadata": {},
   "outputs": [],
   "source": [
    "# Initialize the OneHotEncoder\n",
    "oneh = OneHotEncoder(drop='first', sparse_output=False)"
   ]
  },
  {
   "cell_type": "code",
   "execution_count": 58,
   "id": "c271efb1-2f59-41b8-894b-16948e16db03",
   "metadata": {},
   "outputs": [],
   "source": [
    "# Fit and transform the categorical features in the training set\n",
    "X_train = oneh.fit_transform(X_train)"
   ]
  },
  {
   "cell_type": "code",
   "execution_count": 59,
   "id": "e92b857f-1bf7-4413-9d5d-efb4fc03395c",
   "metadata": {},
   "outputs": [],
   "source": [
    "# Transform the categorical features in the test set\n",
    "X_test= oneh.transform(X_test)"
   ]
  },
  {
   "cell_type": "code",
   "execution_count": 60,
   "id": "c980d29d-f95f-4a62-a610-3cfc43bb43cc",
   "metadata": {},
   "outputs": [
    {
     "data": {
      "text/html": [
       "<style>#sk-container-id-1 {color: black;}#sk-container-id-1 pre{padding: 0;}#sk-container-id-1 div.sk-toggleable {background-color: white;}#sk-container-id-1 label.sk-toggleable__label {cursor: pointer;display: block;width: 100%;margin-bottom: 0;padding: 0.3em;box-sizing: border-box;text-align: center;}#sk-container-id-1 label.sk-toggleable__label-arrow:before {content: \"▸\";float: left;margin-right: 0.25em;color: #696969;}#sk-container-id-1 label.sk-toggleable__label-arrow:hover:before {color: black;}#sk-container-id-1 div.sk-estimator:hover label.sk-toggleable__label-arrow:before {color: black;}#sk-container-id-1 div.sk-toggleable__content {max-height: 0;max-width: 0;overflow: hidden;text-align: left;background-color: #f0f8ff;}#sk-container-id-1 div.sk-toggleable__content pre {margin: 0.2em;color: black;border-radius: 0.25em;background-color: #f0f8ff;}#sk-container-id-1 input.sk-toggleable__control:checked~div.sk-toggleable__content {max-height: 200px;max-width: 100%;overflow: auto;}#sk-container-id-1 input.sk-toggleable__control:checked~label.sk-toggleable__label-arrow:before {content: \"▾\";}#sk-container-id-1 div.sk-estimator input.sk-toggleable__control:checked~label.sk-toggleable__label {background-color: #d4ebff;}#sk-container-id-1 div.sk-label input.sk-toggleable__control:checked~label.sk-toggleable__label {background-color: #d4ebff;}#sk-container-id-1 input.sk-hidden--visually {border: 0;clip: rect(1px 1px 1px 1px);clip: rect(1px, 1px, 1px, 1px);height: 1px;margin: -1px;overflow: hidden;padding: 0;position: absolute;width: 1px;}#sk-container-id-1 div.sk-estimator {font-family: monospace;background-color: #f0f8ff;border: 1px dotted black;border-radius: 0.25em;box-sizing: border-box;margin-bottom: 0.5em;}#sk-container-id-1 div.sk-estimator:hover {background-color: #d4ebff;}#sk-container-id-1 div.sk-parallel-item::after {content: \"\";width: 100%;border-bottom: 1px solid gray;flex-grow: 1;}#sk-container-id-1 div.sk-label:hover label.sk-toggleable__label {background-color: #d4ebff;}#sk-container-id-1 div.sk-serial::before {content: \"\";position: absolute;border-left: 1px solid gray;box-sizing: border-box;top: 0;bottom: 0;left: 50%;z-index: 0;}#sk-container-id-1 div.sk-serial {display: flex;flex-direction: column;align-items: center;background-color: white;padding-right: 0.2em;padding-left: 0.2em;position: relative;}#sk-container-id-1 div.sk-item {position: relative;z-index: 1;}#sk-container-id-1 div.sk-parallel {display: flex;align-items: stretch;justify-content: center;background-color: white;position: relative;}#sk-container-id-1 div.sk-item::before, #sk-container-id-1 div.sk-parallel-item::before {content: \"\";position: absolute;border-left: 1px solid gray;box-sizing: border-box;top: 0;bottom: 0;left: 50%;z-index: -1;}#sk-container-id-1 div.sk-parallel-item {display: flex;flex-direction: column;z-index: 1;position: relative;background-color: white;}#sk-container-id-1 div.sk-parallel-item:first-child::after {align-self: flex-end;width: 50%;}#sk-container-id-1 div.sk-parallel-item:last-child::after {align-self: flex-start;width: 50%;}#sk-container-id-1 div.sk-parallel-item:only-child::after {width: 0;}#sk-container-id-1 div.sk-dashed-wrapped {border: 1px dashed gray;margin: 0 0.4em 0.5em 0.4em;box-sizing: border-box;padding-bottom: 0.4em;background-color: white;}#sk-container-id-1 div.sk-label label {font-family: monospace;font-weight: bold;display: inline-block;line-height: 1.2em;}#sk-container-id-1 div.sk-label-container {text-align: center;}#sk-container-id-1 div.sk-container {/* jupyter's `normalize.less` sets `[hidden] { display: none; }` but bootstrap.min.css set `[hidden] { display: none !important; }` so we also need the `!important` here to be able to override the default hidden behavior on the sphinx rendered scikit-learn.org. See: https://github.com/scikit-learn/scikit-learn/issues/21755 */display: inline-block !important;position: relative;}#sk-container-id-1 div.sk-text-repr-fallback {display: none;}</style><div id=\"sk-container-id-1\" class=\"sk-top-container\"><div class=\"sk-text-repr-fallback\"><pre>LogisticRegression()</pre><b>In a Jupyter environment, please rerun this cell to show the HTML representation or trust the notebook. <br />On GitHub, the HTML representation is unable to render, please try loading this page with nbviewer.org.</b></div><div class=\"sk-container\" hidden><div class=\"sk-item\"><div class=\"sk-estimator sk-toggleable\"><input class=\"sk-toggleable__control sk-hidden--visually\" id=\"sk-estimator-id-1\" type=\"checkbox\" checked><label for=\"sk-estimator-id-1\" class=\"sk-toggleable__label sk-toggleable__label-arrow\">LogisticRegression</label><div class=\"sk-toggleable__content\"><pre>LogisticRegression()</pre></div></div></div></div></div>"
      ],
      "text/plain": [
       "LogisticRegression()"
      ]
     },
     "execution_count": 60,
     "metadata": {},
     "output_type": "execute_result"
    }
   ],
   "source": [
    "# Create a logistic regression model\n",
    "reglog = LogisticRegression()\n",
    "reglog.fit(X_train, y_train)"
   ]
  },
  {
   "cell_type": "code",
   "execution_count": 61,
   "id": "5030e717-fb29-4d56-b7ad-e0057f439490",
   "metadata": {},
   "outputs": [
    {
     "data": {
      "text/html": [
       "<style>#sk-container-id-2 {color: black;}#sk-container-id-2 pre{padding: 0;}#sk-container-id-2 div.sk-toggleable {background-color: white;}#sk-container-id-2 label.sk-toggleable__label {cursor: pointer;display: block;width: 100%;margin-bottom: 0;padding: 0.3em;box-sizing: border-box;text-align: center;}#sk-container-id-2 label.sk-toggleable__label-arrow:before {content: \"▸\";float: left;margin-right: 0.25em;color: #696969;}#sk-container-id-2 label.sk-toggleable__label-arrow:hover:before {color: black;}#sk-container-id-2 div.sk-estimator:hover label.sk-toggleable__label-arrow:before {color: black;}#sk-container-id-2 div.sk-toggleable__content {max-height: 0;max-width: 0;overflow: hidden;text-align: left;background-color: #f0f8ff;}#sk-container-id-2 div.sk-toggleable__content pre {margin: 0.2em;color: black;border-radius: 0.25em;background-color: #f0f8ff;}#sk-container-id-2 input.sk-toggleable__control:checked~div.sk-toggleable__content {max-height: 200px;max-width: 100%;overflow: auto;}#sk-container-id-2 input.sk-toggleable__control:checked~label.sk-toggleable__label-arrow:before {content: \"▾\";}#sk-container-id-2 div.sk-estimator input.sk-toggleable__control:checked~label.sk-toggleable__label {background-color: #d4ebff;}#sk-container-id-2 div.sk-label input.sk-toggleable__control:checked~label.sk-toggleable__label {background-color: #d4ebff;}#sk-container-id-2 input.sk-hidden--visually {border: 0;clip: rect(1px 1px 1px 1px);clip: rect(1px, 1px, 1px, 1px);height: 1px;margin: -1px;overflow: hidden;padding: 0;position: absolute;width: 1px;}#sk-container-id-2 div.sk-estimator {font-family: monospace;background-color: #f0f8ff;border: 1px dotted black;border-radius: 0.25em;box-sizing: border-box;margin-bottom: 0.5em;}#sk-container-id-2 div.sk-estimator:hover {background-color: #d4ebff;}#sk-container-id-2 div.sk-parallel-item::after {content: \"\";width: 100%;border-bottom: 1px solid gray;flex-grow: 1;}#sk-container-id-2 div.sk-label:hover label.sk-toggleable__label {background-color: #d4ebff;}#sk-container-id-2 div.sk-serial::before {content: \"\";position: absolute;border-left: 1px solid gray;box-sizing: border-box;top: 0;bottom: 0;left: 50%;z-index: 0;}#sk-container-id-2 div.sk-serial {display: flex;flex-direction: column;align-items: center;background-color: white;padding-right: 0.2em;padding-left: 0.2em;position: relative;}#sk-container-id-2 div.sk-item {position: relative;z-index: 1;}#sk-container-id-2 div.sk-parallel {display: flex;align-items: stretch;justify-content: center;background-color: white;position: relative;}#sk-container-id-2 div.sk-item::before, #sk-container-id-2 div.sk-parallel-item::before {content: \"\";position: absolute;border-left: 1px solid gray;box-sizing: border-box;top: 0;bottom: 0;left: 50%;z-index: -1;}#sk-container-id-2 div.sk-parallel-item {display: flex;flex-direction: column;z-index: 1;position: relative;background-color: white;}#sk-container-id-2 div.sk-parallel-item:first-child::after {align-self: flex-end;width: 50%;}#sk-container-id-2 div.sk-parallel-item:last-child::after {align-self: flex-start;width: 50%;}#sk-container-id-2 div.sk-parallel-item:only-child::after {width: 0;}#sk-container-id-2 div.sk-dashed-wrapped {border: 1px dashed gray;margin: 0 0.4em 0.5em 0.4em;box-sizing: border-box;padding-bottom: 0.4em;background-color: white;}#sk-container-id-2 div.sk-label label {font-family: monospace;font-weight: bold;display: inline-block;line-height: 1.2em;}#sk-container-id-2 div.sk-label-container {text-align: center;}#sk-container-id-2 div.sk-container {/* jupyter's `normalize.less` sets `[hidden] { display: none; }` but bootstrap.min.css set `[hidden] { display: none !important; }` so we also need the `!important` here to be able to override the default hidden behavior on the sphinx rendered scikit-learn.org. See: https://github.com/scikit-learn/scikit-learn/issues/21755 */display: inline-block !important;position: relative;}#sk-container-id-2 div.sk-text-repr-fallback {display: none;}</style><div id=\"sk-container-id-2\" class=\"sk-top-container\"><div class=\"sk-text-repr-fallback\"><pre>DecisionTreeClassifier(random_state=42)</pre><b>In a Jupyter environment, please rerun this cell to show the HTML representation or trust the notebook. <br />On GitHub, the HTML representation is unable to render, please try loading this page with nbviewer.org.</b></div><div class=\"sk-container\" hidden><div class=\"sk-item\"><div class=\"sk-estimator sk-toggleable\"><input class=\"sk-toggleable__control sk-hidden--visually\" id=\"sk-estimator-id-2\" type=\"checkbox\" checked><label for=\"sk-estimator-id-2\" class=\"sk-toggleable__label sk-toggleable__label-arrow\">DecisionTreeClassifier</label><div class=\"sk-toggleable__content\"><pre>DecisionTreeClassifier(random_state=42)</pre></div></div></div></div></div>"
      ],
      "text/plain": [
       "DecisionTreeClassifier(random_state=42)"
      ]
     },
     "execution_count": 61,
     "metadata": {},
     "output_type": "execute_result"
    }
   ],
   "source": [
    "# Train a Decision Tree classifier\n",
    "decision_tree = DecisionTreeClassifier(random_state=42)\n",
    "decision_tree.fit(X_train, y_train)"
   ]
  },
  {
   "cell_type": "code",
   "execution_count": 62,
   "id": "fc15da68-3744-4548-b03b-2843351885a7",
   "metadata": {},
   "outputs": [
    {
     "data": {
      "text/html": [
       "<style>#sk-container-id-3 {color: black;}#sk-container-id-3 pre{padding: 0;}#sk-container-id-3 div.sk-toggleable {background-color: white;}#sk-container-id-3 label.sk-toggleable__label {cursor: pointer;display: block;width: 100%;margin-bottom: 0;padding: 0.3em;box-sizing: border-box;text-align: center;}#sk-container-id-3 label.sk-toggleable__label-arrow:before {content: \"▸\";float: left;margin-right: 0.25em;color: #696969;}#sk-container-id-3 label.sk-toggleable__label-arrow:hover:before {color: black;}#sk-container-id-3 div.sk-estimator:hover label.sk-toggleable__label-arrow:before {color: black;}#sk-container-id-3 div.sk-toggleable__content {max-height: 0;max-width: 0;overflow: hidden;text-align: left;background-color: #f0f8ff;}#sk-container-id-3 div.sk-toggleable__content pre {margin: 0.2em;color: black;border-radius: 0.25em;background-color: #f0f8ff;}#sk-container-id-3 input.sk-toggleable__control:checked~div.sk-toggleable__content {max-height: 200px;max-width: 100%;overflow: auto;}#sk-container-id-3 input.sk-toggleable__control:checked~label.sk-toggleable__label-arrow:before {content: \"▾\";}#sk-container-id-3 div.sk-estimator input.sk-toggleable__control:checked~label.sk-toggleable__label {background-color: #d4ebff;}#sk-container-id-3 div.sk-label input.sk-toggleable__control:checked~label.sk-toggleable__label {background-color: #d4ebff;}#sk-container-id-3 input.sk-hidden--visually {border: 0;clip: rect(1px 1px 1px 1px);clip: rect(1px, 1px, 1px, 1px);height: 1px;margin: -1px;overflow: hidden;padding: 0;position: absolute;width: 1px;}#sk-container-id-3 div.sk-estimator {font-family: monospace;background-color: #f0f8ff;border: 1px dotted black;border-radius: 0.25em;box-sizing: border-box;margin-bottom: 0.5em;}#sk-container-id-3 div.sk-estimator:hover {background-color: #d4ebff;}#sk-container-id-3 div.sk-parallel-item::after {content: \"\";width: 100%;border-bottom: 1px solid gray;flex-grow: 1;}#sk-container-id-3 div.sk-label:hover label.sk-toggleable__label {background-color: #d4ebff;}#sk-container-id-3 div.sk-serial::before {content: \"\";position: absolute;border-left: 1px solid gray;box-sizing: border-box;top: 0;bottom: 0;left: 50%;z-index: 0;}#sk-container-id-3 div.sk-serial {display: flex;flex-direction: column;align-items: center;background-color: white;padding-right: 0.2em;padding-left: 0.2em;position: relative;}#sk-container-id-3 div.sk-item {position: relative;z-index: 1;}#sk-container-id-3 div.sk-parallel {display: flex;align-items: stretch;justify-content: center;background-color: white;position: relative;}#sk-container-id-3 div.sk-item::before, #sk-container-id-3 div.sk-parallel-item::before {content: \"\";position: absolute;border-left: 1px solid gray;box-sizing: border-box;top: 0;bottom: 0;left: 50%;z-index: -1;}#sk-container-id-3 div.sk-parallel-item {display: flex;flex-direction: column;z-index: 1;position: relative;background-color: white;}#sk-container-id-3 div.sk-parallel-item:first-child::after {align-self: flex-end;width: 50%;}#sk-container-id-3 div.sk-parallel-item:last-child::after {align-self: flex-start;width: 50%;}#sk-container-id-3 div.sk-parallel-item:only-child::after {width: 0;}#sk-container-id-3 div.sk-dashed-wrapped {border: 1px dashed gray;margin: 0 0.4em 0.5em 0.4em;box-sizing: border-box;padding-bottom: 0.4em;background-color: white;}#sk-container-id-3 div.sk-label label {font-family: monospace;font-weight: bold;display: inline-block;line-height: 1.2em;}#sk-container-id-3 div.sk-label-container {text-align: center;}#sk-container-id-3 div.sk-container {/* jupyter's `normalize.less` sets `[hidden] { display: none; }` but bootstrap.min.css set `[hidden] { display: none !important; }` so we also need the `!important` here to be able to override the default hidden behavior on the sphinx rendered scikit-learn.org. See: https://github.com/scikit-learn/scikit-learn/issues/21755 */display: inline-block !important;position: relative;}#sk-container-id-3 div.sk-text-repr-fallback {display: none;}</style><div id=\"sk-container-id-3\" class=\"sk-top-container\"><div class=\"sk-text-repr-fallback\"><pre>RandomForestClassifier(random_state=42)</pre><b>In a Jupyter environment, please rerun this cell to show the HTML representation or trust the notebook. <br />On GitHub, the HTML representation is unable to render, please try loading this page with nbviewer.org.</b></div><div class=\"sk-container\" hidden><div class=\"sk-item\"><div class=\"sk-estimator sk-toggleable\"><input class=\"sk-toggleable__control sk-hidden--visually\" id=\"sk-estimator-id-3\" type=\"checkbox\" checked><label for=\"sk-estimator-id-3\" class=\"sk-toggleable__label sk-toggleable__label-arrow\">RandomForestClassifier</label><div class=\"sk-toggleable__content\"><pre>RandomForestClassifier(random_state=42)</pre></div></div></div></div></div>"
      ],
      "text/plain": [
       "RandomForestClassifier(random_state=42)"
      ]
     },
     "execution_count": 62,
     "metadata": {},
     "output_type": "execute_result"
    }
   ],
   "source": [
    "# Train a Random Forest classifier\n",
    "random_forest = RandomForestClassifier(n_estimators=100, random_state=42)\n",
    "random_forest.fit(X_train, y_train)"
   ]
  },
  {
   "cell_type": "code",
   "execution_count": 63,
   "id": "163d3d25-739a-4de4-880a-fcc20fe32b92",
   "metadata": {},
   "outputs": [],
   "source": [
    "# Evaluate the Logistic Regression model\n",
    "train_score_logistic = reglog.score(X_train, y_train)\n",
    "test_score_logistic = reglog.score(X_test, y_test)"
   ]
  },
  {
   "cell_type": "code",
   "execution_count": 64,
   "id": "cfaaafa1-81da-41fd-af33-f2c68218d0b5",
   "metadata": {},
   "outputs": [],
   "source": [
    "# Evaluate the Decision Tree model\n",
    "train_score_decision_tree = decision_tree.score(X_train, y_train)\n",
    "test_score_decision_tree = decision_tree.score(X_test, y_test)"
   ]
  },
  {
   "cell_type": "code",
   "execution_count": 65,
   "id": "0b4690e6-56d6-40ae-8753-f075498122c7",
   "metadata": {},
   "outputs": [],
   "source": [
    "# Evaluate the Random Forest model\n",
    "train_score_random_forest = random_forest.score(X_train, y_train)\n",
    "test_score_random_forest = random_forest.score(X_test, y_test)"
   ]
  },
  {
   "cell_type": "code",
   "execution_count": 66,
   "id": "10746d0c-e478-4063-94bb-21e02df008cd",
   "metadata": {},
   "outputs": [
    {
     "name": "stdout",
     "output_type": "stream",
     "text": [
      "Logistic Regression:\n",
      "Score on the train set: 0.6482758620689655\n",
      "Score on the test set: 0.599483204134367\n",
      "\n",
      "Decision Tree:\n",
      "Score on the train set: 0.7137931034482758\n",
      "Score on the test set: 0.5943152454780362\n",
      "\n",
      "Random Forest:\n",
      "Score on the train set: 0.7137931034482758\n",
      "Score on the test set: 0.5968992248062015\n"
     ]
    }
   ],
   "source": [
    "print('Logistic Regression:')\n",
    "print('Score on the train set:', train_score_logistic)\n",
    "print('Score on the test set:', test_score_logistic)\n",
    "print('\\nDecision Tree:')\n",
    "print('Score on the train set:', train_score_decision_tree)\n",
    "print('Score on the test set:', test_score_decision_tree)\n",
    "print('\\nRandom Forest:')\n",
    "print('Score on the train set:', train_score_random_forest)\n",
    "print('Score on the test set:', test_score_random_forest)"
   ]
  },
  {
   "cell_type": "code",
   "execution_count": 67,
   "id": "e96d116e-bdb4-4d8c-960f-497acbefdb0f",
   "metadata": {},
   "outputs": [
    {
     "data": {
      "text/plain": [
       "['reglog_model.pkl']"
      ]
     },
     "execution_count": 67,
     "metadata": {},
     "output_type": "execute_result"
    }
   ],
   "source": [
    "# chosen_model\n",
    "chosen_model = reglog \n",
    "\n",
    "# Save the trained model to a .pkl file\n",
    "joblib.dump(chosen_model, 'reglog_model.pkl')"
   ]
  },
  {
   "cell_type": "code",
   "execution_count": null,
   "id": "b087a21a-167f-4b99-9e65-0506deee0bb5",
   "metadata": {},
   "outputs": [],
   "source": []
  }
 ],
 "metadata": {
  "kernelspec": {
   "display_name": "python3.10.12",
   "language": "python",
   "name": "python3.10.12"
  },
  "language_info": {
   "codemirror_mode": {
    "name": "ipython",
    "version": 3
   },
   "file_extension": ".py",
   "mimetype": "text/x-python",
   "name": "python",
   "nbconvert_exporter": "python",
   "pygments_lexer": "ipython3",
   "version": "3.10.12"
  }
 },
 "nbformat": 4,
 "nbformat_minor": 5
}
